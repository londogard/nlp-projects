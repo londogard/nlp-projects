{
  "cells": [
    {
      "cell_type": "markdown",
      "metadata": {
        "id": "ewCF38KB0hEk",
        "colab_type": "text"
      },
      "source": [
        "# CoViD-19 Swedish QA\n",
        "I decided to scratch a small itch I've had for a while now - creating a search engine using an unsupervised approach. The final product, or the first iteration rather, ended up pretty good and I wanted to share what I've done so far.\n",
        "\n",
        "### Introduction to the problem and requirements\n",
        "An unsupervised approach where we never edit the data nor supply any manually annotated data? Every Data Scientist dream I suppose. There's a reason as of why supervised approaches generally result in better performance but there is some light at the end of the tunnel for unsupervised approaches too.\n",
        "\n",
        "Let's begin with my own requirements, which are mainly created to only keep the fun problem-solving left.\n",
        "\n",
        "- The end-product must be unsupervised\n",
        "  - No manually annotated data\n",
        "  - No heuristic applied (at least in first iteration)\n",
        "- It should be light enough to run on a Raspberry Pi later on (hopefully on the JVM to keep it simple with my back-end)\n",
        "- Must be Swedish all the way through - no translations (English models you can transfer knowledge from tends to be stronger, but I want to keep this fun!)\n",
        "\n",
        "With this in mind I set out to build my own FAQ search engine.\n",
        "\n",
        "**What is required to answer questions using a FAQ?** We need to find the most relevant Q/A to the question posed. \n",
        "\n",
        "**How do we do this?** There is numerous types of ways to do this unsupervised. I'll account for a few here:\n",
        "\n",
        "1. Latent Dirichlet Allocation (LDA) which is a way to find topics through clever statistical analysis (basically soft clusters of documents)\n",
        "2. Embedding and [Cosine Similarity](https://en.wikipedia.org/wiki/Cosine_similarity), find the distance between the two arrays of numbers in the embedded space. One can also apply Euclidean Distance which isn't especially good because of [Curse of Dimensionality](https://en.wikipedia.org/wiki/Curse_of_dimensionality). Other possible approaches includes [Word Mover Distance](https://arxiv.org/pdf/1912.00509.pdf). \n",
        "3. Simple word counting and Bag of Words\n",
        "\n",
        "### Tools Chosen\n",
        "After a little research I found a few tools which fit my need. \n",
        "\n",
        "**fastText**\n",
        "\n",
        "fastText that came out of Facebook AI Research (FAIR) and [this](https://arxiv.org/abs/1607.04606) paper. It's a type of Word Embeddings where also subwords are embedded through ngrams of characters, this means that we are able to embedd words that are out of vocabulary, which can be the reason because of either misspelling or just a missing word.\n",
        "On their [homepage](https://fasttext.cc/) they have a plethora of models including a Swedish one that has been derived from Wikipedia, pretty awesome!\n",
        "\n",
        "**Smooth Inverse Frequency**\n",
        "\n",
        "Smooth Inverse Frequency (SIF) is an algorithm to embed sentences which was proposed in [\"A Simple but Tough-To-Beat Baseline for Sentence Embeddings\"](https://openreview.net/pdf?id=SyK00v5xx) in 2017. In its essence they propose to embed the sentence using a weighted average and thereafter modify them a bit using PCA/SVD.\n",
        "\n",
        "**Folkhälsomyndigheten FAQ**\n",
        "\n",
        "Finally I need the FAQ to use, in my case it's Covid-19 FAQ from Folkhälsomyndigheten. It was parsed into pandas dataframes using requests & BeautifulSoup4 (bs4).\n",
        "\n",
        "### Final Result\n",
        "So after all this was figured out I sat down an afternoon and cooked some code together, the result ended up more impressive than I had imagined. The questions posed are being responded with pretty good results. I'm especially impressed by question about _astma_, _son_ and _regler_. Here's a few of them:\n",
        "\n",
        "\n",
        "\n",
        "```\n",
        "> Hur sjuk blir jag?\n",
        "\n",
        "Hur sjuk blir man av covid-19? - 0.98\n",
        "Hur länge är man sjuk av covid-19? - 0.97\n",
        "Hur lång är inkubationstiden? - 0.81\n",
        "```\n",
        "\n",
        "```\n",
        "> Hur vet jag om det är astma?\n",
        "\n",
        "Hur vet jag om mina symtom beror på pollenallergi eller på covid-19? - 0.63\n",
        "Hur sjuk blir man av covid-19? - 0.53\n",
        "Hur länge är man sjuk av covid-19? - 0.53\n",
        "```\n",
        "\n",
        "```\n",
        "> Hur förklarar jag corona för min son?\n",
        "\n",
        "Hur pratar man med barn om det nya coronaviruset? - 0.58\n",
        "Hur lång är inkubationstiden? - 0.53\n",
        "Hur sjuk blir man av covid-19? - 0.49\n",
        "```\n",
        "\n",
        "```\n",
        "> Hur minskar vi spridningen i sverige?\n",
        "\n",
        "Hur gör ni för att mäta förekomsten av covid-19 i samhället? - 0.65\n",
        "Hur övervakar ni på Folkhälsomyndigheten spridningen av covid-19? - 0.57\n",
        "Hur stor är dödligheten till följd av covid-19? - 0.56\n",
        "```\n",
        "\n",
        "```\n",
        "> Vad för regler finns?\n",
        "\n",
        "Vad gäller för olika verksamheter? - 0.76\n",
        "Vad gäller för handeln? - 0.75\n",
        "Vad är covid-19? - 0.71\n",
        "```\n",
        "\n",
        "One can directly note the correlation of the beginning. It seems like the first word has a high correlation with the most similar question. Weird. Removing stop words could probably improve this, but that'd be for the second implementation.\n",
        "\n",
        "### Further improvements for iteration 2, 3 and beyond!\n",
        "**Pre-processing**\n",
        "\n",
        "As mentioned right above we can apply some basic pre-processing  such as removing stop words. In reality this should be handled by SIF but looking at our similarity scores there's a 1-1 relation between the first word of the sentence. \n",
        "\n",
        "Other improvements worth trying out is lemmatizing or stemming the words (\"cutting them to the root\" in simple terms) and further using a better tokenization is worth trying out (currently splitting on whitespace). _spaCy_ offers a strong tokenizer, but I haven't tried it out for Swedish yet. Once again _fastText_ should handle this but it's worth trying out if it improves or keep the result at the same level.\n",
        "\n",
        "**Different Embedding Techniques**\n",
        "\n",
        "There exist a certain Sentence Embedding that's basically made for this task - MULE (Multimodal Universal Language Embeddings). MULE is even multilingual but unfortunately they're not able to embed Swedish so we'd require a translation from Swedish to one of the 16 languages supported by MULE. This means that it is out of the question because of my requirements, but could still be fun to check out. \n",
        "\n",
        "Other embeddings such as FLAIR (by Zalando), BERT (using BERT-as-a-service) or even training my own embeddings (perhaps using StarSpace) could prove interesting also.\n",
        "\n",
        "**Completely other technique**\n",
        "\n",
        "I mentioned first of all LDA, and I think LDA could be interesting. Most often LDA is applied to larger documents but as with everything it is never wrong to try out and verify the results. \n",
        "\n",
        "Supervised approaches would certainly be able to show us some good performance but that requires annotating data in one way or another which is a boring task - but very important. Perhaps I'll revisit and label some data, with todays Transfer Learning we can achieve higher accuracy with less data using other pre-trained  Language Models such as BERT or Multifit (from Ulmfit).\n",
        "\n",
        "### Ending words\n",
        "This was a really fun task and I'm happy that I tried it out. I'm sure I'll revisit and improve it further by applying some of the possible improvements. Further I think I might actually try to do this for all FAQs available by our authorities to create a \"Multi FAQ\" which could prove pretty cool. With more data the results should also be better.\n",
        "\n",
        "And as an ending note my model ended up using 2.5-3 GB of memory during run-time which means it's possible to run on my Raspberry Pi 4! Further reduction of size can be done by removing the most uncommon words in the vocabulary (vocab is 2M words, which is very large). I applied a dimension reduction using the built in version of _fastText_ (ending up using d=100 and still achieving good search results).\n",
        "\n",
        "The implementation is available right beneath. Or at [Londogard GitHub](https://github.com/londogard/).\n",
        "\n",
        "Thanks for this time, I'll be back with more! \n",
        "\n",
        "-----\n",
        "\n",
        "### Code\n",
        "First installation of libraries required."
      ]
    },
    {
      "cell_type": "code",
      "metadata": {
        "id": "8P7kdrgP0YDf",
        "colab_type": "code",
        "colab": {}
      },
      "source": [
        "%%capture\n",
        "!pip install gensim --upgrade\n",
        "!pip install -U fse\n",
        "!pip install stanza"
      ],
      "execution_count": 1,
      "outputs": []
    },
    {
      "cell_type": "code",
      "metadata": {
        "id": "Gi4Gsx0w0gi3",
        "colab_type": "code",
        "colab": {}
      },
      "source": [
        "import numpy as np # linear algebra\n",
        "import pandas as pd # data processing, CSV file I/O (e.g. pd.read_csv)\n",
        "from scipy.spatial import distance # quick vector comparison with cdist + cosine\n",
        "from tqdm import tqdm\n",
        "tqdm.pandas()\n",
        "\n",
        "from pathlib import Path\n",
        "\n",
        "import os\n",
        "import random \n",
        "import operator \n",
        "import regex as re\n",
        "\n",
        "# gensim + fasttext\n",
        "from gensim.models.fasttext import FastText, load_facebook_vectors\n",
        "from gensim.models import KeyedVectors\n",
        "\n",
        "import stanza\n",
        "\n",
        "from bs4 import BeautifulSoup\n",
        "import requests"
      ],
      "execution_count": 7,
      "outputs": []
    },
    {
      "cell_type": "code",
      "metadata": {
        "id": "FGsuxvuk26ja",
        "colab_type": "code",
        "colab": {}
      },
      "source": [
        "# !wget # https://drive.google.com/open?id=1vaWtiSlRAZ3XCdtnSce_6dwQ0T5x0OEJ\n",
        "stanza.download('sv')\n",
        "# This is the model with reduced dimensions. Couldn't upload it elsewhere, simplest is to move it to your drive and use the drive tool"
      ],
      "execution_count": null,
      "outputs": []
    },
    {
      "cell_type": "code",
      "execution_count": 10,
      "metadata": {},
      "outputs": [],
      "source": [
        "wv = load_facebook_vectors('~/git/nlp-projects/models/cc.sv.100.bin')"
      ]
    },
    {
      "cell_type": "markdown",
      "metadata": {
        "id": "OGgUohB2d2dB",
        "colab_type": "text"
      },
      "source": [
        "## Getting the FAQ from Folkhälsomyndigheten\n"
      ]
    },
    {
      "cell_type": "code",
      "metadata": {
        "id": "d1XDN3rQcJP-",
        "colab_type": "code",
        "colab": {}
      },
      "source": [
        "def get_title(p):\n",
        "  return p.find(class_='accordion__item__title__text').span.text\n",
        "\n",
        "# OBS: For now removing hrefs!\n",
        "def get_answer(p):\n",
        "  lines = p.find('div', class_='textbody').find_all('p')\n",
        "  lines = ' '.join([l.text for l in lines[:-1] if l.a == None])\n",
        "  return lines\n",
        "\n",
        "\n",
        "r = requests.get(\"https://www.folkhalsomyndigheten.se/smittskydd-beredskap/utbrott/aktuella-utbrott/covid-19/fragor-och-svar/\")\n",
        "html = r.text\n",
        "\n",
        "soup = BeautifulSoup(html, \"html.parser\")\n",
        "\n",
        "divs = soup.find_all('li', class_='accordion__item toggle')\n",
        "with open ('covid.tsv', 'w') as f:\n",
        "  f.write('question\\tanswer\\n')\n",
        "  for d in divs:\n",
        "    f.write(f\"{get_title(d)}\\t{get_answer(d)}\\n\")"
      ],
      "execution_count": 8,
      "outputs": []
    },
    {
      "cell_type": "code",
      "execution_count": 9,
      "metadata": {},
      "outputs": [
        {
          "output_type": "execute_result",
          "data": {
            "text/plain": [
              "                                            question  \\\n",
              "0  Vad innebär de nationella föreskrifterna och a...   \n",
              "1  Vilka regler gäller för resor under jul- och n...   \n",
              "2  Vilka rekommendationer gäller för jul- och nyå...   \n",
              "3  Ska alla som precis kommit eller kommer från S...   \n",
              "4         Vilka olika tester finns det för covid-19?   \n",
              "\n",
              "                                              answer  \n",
              "0  De skärpta nationella föreskrifterna och allmä...  \n",
              "1  Du bör avstå från att resa så mycket som möjli...  \n",
              "2  Vinterns högtider bör firas i en mindre krets....  \n",
              "3  Ja. Brittiska myndigheter har upptäckt en ny v...  \n",
              "4  Det finns test som kan visa om du har en pågåe...  "
            ],
            "text/html": "<div>\n<style scoped>\n    .dataframe tbody tr th:only-of-type {\n        vertical-align: middle;\n    }\n\n    .dataframe tbody tr th {\n        vertical-align: top;\n    }\n\n    .dataframe thead th {\n        text-align: right;\n    }\n</style>\n<table border=\"1\" class=\"dataframe\">\n  <thead>\n    <tr style=\"text-align: right;\">\n      <th></th>\n      <th>question</th>\n      <th>answer</th>\n    </tr>\n  </thead>\n  <tbody>\n    <tr>\n      <th>0</th>\n      <td>Vad innebär de nationella föreskrifterna och a...</td>\n      <td>De skärpta nationella föreskrifterna och allmä...</td>\n    </tr>\n    <tr>\n      <th>1</th>\n      <td>Vilka regler gäller för resor under jul- och n...</td>\n      <td>Du bör avstå från att resa så mycket som möjli...</td>\n    </tr>\n    <tr>\n      <th>2</th>\n      <td>Vilka rekommendationer gäller för jul- och nyå...</td>\n      <td>Vinterns högtider bör firas i en mindre krets....</td>\n    </tr>\n    <tr>\n      <th>3</th>\n      <td>Ska alla som precis kommit eller kommer från S...</td>\n      <td>Ja. Brittiska myndigheter har upptäckt en ny v...</td>\n    </tr>\n    <tr>\n      <th>4</th>\n      <td>Vilka olika tester finns det för covid-19?</td>\n      <td>Det finns test som kan visa om du har en pågåe...</td>\n    </tr>\n  </tbody>\n</table>\n</div>"
          },
          "metadata": {},
          "execution_count": 9
        }
      ],
      "source": [
        "df = pd.read_csv('covid.tsv', sep='\\t')\n",
        "df.head()"
      ]
    },
    {
      "cell_type": "code",
      "metadata": {
        "id": "zbxHldbh0Vff",
        "colab_type": "code",
        "colab": {}
      },
      "source": [
        "df['sent_question'] = df['question'].apply(lambda x: x.split(' '))\n",
        "df.head()"
      ],
      "execution_count": 6,
      "outputs": [
        {
          "output_type": "execute_result",
          "data": {
            "text/plain": [
              "                                            question  \\\n",
              "0                                Vad är coronavirus?   \n",
              "1                                   Vad är covid-19?   \n",
              "2        Vad skiljer covid-19 från säsongsinfluensa?   \n",
              "3                     Vilka är symtomen på covid-19?   \n",
              "4  Hur vet jag om mina symtom beror på pollenalle...   \n",
              "\n",
              "                                              answer  \\\n",
              "0  Det finns ett stort antal virus som tillhör co...   \n",
              "1  Covid-19 är det officiella namnet för sjukdome...   \n",
              "2  Det är svårt att jämföra en helt ny sjukdom, e...   \n",
              "3  Sjukdomen är hos de flesta en luftvägsinfektio...   \n",
              "4  Både covid-19 och pollenallergi kan ge milda f...   \n",
              "\n",
              "                                       sent_question  \n",
              "0                            [Vad, är, coronavirus?]  \n",
              "1                               [Vad, är, covid-19?]  \n",
              "2  [Vad, skiljer, covid-19, från, säsongsinfluensa?]  \n",
              "3               [Vilka, är, symtomen, på, covid-19?]  \n",
              "4  [Hur, vet, jag, om, mina, symtom, beror, på, p...  "
            ],
            "text/html": "<div>\n<style scoped>\n    .dataframe tbody tr th:only-of-type {\n        vertical-align: middle;\n    }\n\n    .dataframe tbody tr th {\n        vertical-align: top;\n    }\n\n    .dataframe thead th {\n        text-align: right;\n    }\n</style>\n<table border=\"1\" class=\"dataframe\">\n  <thead>\n    <tr style=\"text-align: right;\">\n      <th></th>\n      <th>question</th>\n      <th>answer</th>\n      <th>sent_question</th>\n    </tr>\n  </thead>\n  <tbody>\n    <tr>\n      <th>0</th>\n      <td>Vad är coronavirus?</td>\n      <td>Det finns ett stort antal virus som tillhör co...</td>\n      <td>[Vad, är, coronavirus?]</td>\n    </tr>\n    <tr>\n      <th>1</th>\n      <td>Vad är covid-19?</td>\n      <td>Covid-19 är det officiella namnet för sjukdome...</td>\n      <td>[Vad, är, covid-19?]</td>\n    </tr>\n    <tr>\n      <th>2</th>\n      <td>Vad skiljer covid-19 från säsongsinfluensa?</td>\n      <td>Det är svårt att jämföra en helt ny sjukdom, e...</td>\n      <td>[Vad, skiljer, covid-19, från, säsongsinfluensa?]</td>\n    </tr>\n    <tr>\n      <th>3</th>\n      <td>Vilka är symtomen på covid-19?</td>\n      <td>Sjukdomen är hos de flesta en luftvägsinfektio...</td>\n      <td>[Vilka, är, symtomen, på, covid-19?]</td>\n    </tr>\n    <tr>\n      <th>4</th>\n      <td>Hur vet jag om mina symtom beror på pollenalle...</td>\n      <td>Både covid-19 och pollenallergi kan ge milda f...</td>\n      <td>[Hur, vet, jag, om, mina, symtom, beror, på, p...</td>\n    </tr>\n  </tbody>\n</table>\n</div>"
          },
          "metadata": {},
          "execution_count": 6
        }
      ]
    },
    {
      "cell_type": "code",
      "metadata": {
        "id": "j3ewk899kSN-",
        "colab_type": "code",
        "colab": {}
      },
      "source": [
        "df['embedded_q'] = df['sent_question'].apply(lambda x: [wv.get_vector(w) for w in x])\n",
        "df['embedded_avg'] = df['embedded_q'].apply(lambda x: np.mean(x, axis=0))\n",
        "df.head()"
      ],
      "execution_count": 4,
      "outputs": [
        {
          "output_type": "error",
          "ename": "NameError",
          "evalue": "name 'wv' is not defined",
          "traceback": [
            "\u001b[0;31m---------------------------------------------------------------------------\u001b[0m",
            "\u001b[0;31mNameError\u001b[0m                                 Traceback (most recent call last)",
            "\u001b[0;32m<ipython-input-4-46b5ffd2f78a>\u001b[0m in \u001b[0;36m<module>\u001b[0;34m\u001b[0m\n\u001b[0;32m----> 1\u001b[0;31m \u001b[0mdf\u001b[0m\u001b[0;34m[\u001b[0m\u001b[0;34m'embedded_q'\u001b[0m\u001b[0;34m]\u001b[0m \u001b[0;34m=\u001b[0m \u001b[0mdf\u001b[0m\u001b[0;34m[\u001b[0m\u001b[0;34m'sent_question'\u001b[0m\u001b[0;34m]\u001b[0m\u001b[0;34m.\u001b[0m\u001b[0mapply\u001b[0m\u001b[0;34m(\u001b[0m\u001b[0;32mlambda\u001b[0m \u001b[0mx\u001b[0m\u001b[0;34m:\u001b[0m \u001b[0;34m[\u001b[0m\u001b[0mwv\u001b[0m\u001b[0;34m.\u001b[0m\u001b[0mget_vector\u001b[0m\u001b[0;34m(\u001b[0m\u001b[0mw\u001b[0m\u001b[0;34m)\u001b[0m \u001b[0;32mfor\u001b[0m \u001b[0mw\u001b[0m \u001b[0;32min\u001b[0m \u001b[0mx\u001b[0m\u001b[0;34m]\u001b[0m\u001b[0;34m)\u001b[0m\u001b[0;34m\u001b[0m\u001b[0;34m\u001b[0m\u001b[0m\n\u001b[0m\u001b[1;32m      2\u001b[0m \u001b[0mdf\u001b[0m\u001b[0;34m[\u001b[0m\u001b[0;34m'embedded_avg'\u001b[0m\u001b[0;34m]\u001b[0m \u001b[0;34m=\u001b[0m \u001b[0mdf\u001b[0m\u001b[0;34m[\u001b[0m\u001b[0;34m'embedded_q'\u001b[0m\u001b[0;34m]\u001b[0m\u001b[0;34m.\u001b[0m\u001b[0mapply\u001b[0m\u001b[0;34m(\u001b[0m\u001b[0;32mlambda\u001b[0m \u001b[0mx\u001b[0m\u001b[0;34m:\u001b[0m \u001b[0mnp\u001b[0m\u001b[0;34m.\u001b[0m\u001b[0mmean\u001b[0m\u001b[0;34m(\u001b[0m\u001b[0mx\u001b[0m\u001b[0;34m,\u001b[0m \u001b[0maxis\u001b[0m\u001b[0;34m=\u001b[0m\u001b[0;36m0\u001b[0m\u001b[0;34m)\u001b[0m\u001b[0;34m)\u001b[0m\u001b[0;34m\u001b[0m\u001b[0;34m\u001b[0m\u001b[0m\n\u001b[1;32m      3\u001b[0m \u001b[0mdf\u001b[0m\u001b[0;34m.\u001b[0m\u001b[0mhead\u001b[0m\u001b[0;34m(\u001b[0m\u001b[0;34m)\u001b[0m\u001b[0;34m\u001b[0m\u001b[0;34m\u001b[0m\u001b[0m\n",
            "\u001b[0;32m~/.local/lib/python3.6/site-packages/pandas/core/series.py\u001b[0m in \u001b[0;36mapply\u001b[0;34m(self, func, convert_dtype, args, **kwds)\u001b[0m\n\u001b[1;32m   3846\u001b[0m             \u001b[0;32melse\u001b[0m\u001b[0;34m:\u001b[0m\u001b[0;34m\u001b[0m\u001b[0;34m\u001b[0m\u001b[0m\n\u001b[1;32m   3847\u001b[0m                 \u001b[0mvalues\u001b[0m \u001b[0;34m=\u001b[0m \u001b[0mself\u001b[0m\u001b[0;34m.\u001b[0m\u001b[0mastype\u001b[0m\u001b[0;34m(\u001b[0m\u001b[0mobject\u001b[0m\u001b[0;34m)\u001b[0m\u001b[0;34m.\u001b[0m\u001b[0mvalues\u001b[0m\u001b[0;34m\u001b[0m\u001b[0;34m\u001b[0m\u001b[0m\n\u001b[0;32m-> 3848\u001b[0;31m                 \u001b[0mmapped\u001b[0m \u001b[0;34m=\u001b[0m \u001b[0mlib\u001b[0m\u001b[0;34m.\u001b[0m\u001b[0mmap_infer\u001b[0m\u001b[0;34m(\u001b[0m\u001b[0mvalues\u001b[0m\u001b[0;34m,\u001b[0m \u001b[0mf\u001b[0m\u001b[0;34m,\u001b[0m \u001b[0mconvert\u001b[0m\u001b[0;34m=\u001b[0m\u001b[0mconvert_dtype\u001b[0m\u001b[0;34m)\u001b[0m\u001b[0;34m\u001b[0m\u001b[0;34m\u001b[0m\u001b[0m\n\u001b[0m\u001b[1;32m   3849\u001b[0m \u001b[0;34m\u001b[0m\u001b[0m\n\u001b[1;32m   3850\u001b[0m         \u001b[0;32mif\u001b[0m \u001b[0mlen\u001b[0m\u001b[0;34m(\u001b[0m\u001b[0mmapped\u001b[0m\u001b[0;34m)\u001b[0m \u001b[0;32mand\u001b[0m \u001b[0misinstance\u001b[0m\u001b[0;34m(\u001b[0m\u001b[0mmapped\u001b[0m\u001b[0;34m[\u001b[0m\u001b[0;36m0\u001b[0m\u001b[0;34m]\u001b[0m\u001b[0;34m,\u001b[0m \u001b[0mSeries\u001b[0m\u001b[0;34m)\u001b[0m\u001b[0;34m:\u001b[0m\u001b[0;34m\u001b[0m\u001b[0;34m\u001b[0m\u001b[0m\n",
            "\u001b[0;32mpandas/_libs/lib.pyx\u001b[0m in \u001b[0;36mpandas._libs.lib.map_infer\u001b[0;34m()\u001b[0m\n",
            "\u001b[0;32m<ipython-input-4-46b5ffd2f78a>\u001b[0m in \u001b[0;36m<lambda>\u001b[0;34m(x)\u001b[0m\n\u001b[0;32m----> 1\u001b[0;31m \u001b[0mdf\u001b[0m\u001b[0;34m[\u001b[0m\u001b[0;34m'embedded_q'\u001b[0m\u001b[0;34m]\u001b[0m \u001b[0;34m=\u001b[0m \u001b[0mdf\u001b[0m\u001b[0;34m[\u001b[0m\u001b[0;34m'sent_question'\u001b[0m\u001b[0;34m]\u001b[0m\u001b[0;34m.\u001b[0m\u001b[0mapply\u001b[0m\u001b[0;34m(\u001b[0m\u001b[0;32mlambda\u001b[0m \u001b[0mx\u001b[0m\u001b[0;34m:\u001b[0m \u001b[0;34m[\u001b[0m\u001b[0mwv\u001b[0m\u001b[0;34m.\u001b[0m\u001b[0mget_vector\u001b[0m\u001b[0;34m(\u001b[0m\u001b[0mw\u001b[0m\u001b[0;34m)\u001b[0m \u001b[0;32mfor\u001b[0m \u001b[0mw\u001b[0m \u001b[0;32min\u001b[0m \u001b[0mx\u001b[0m\u001b[0;34m]\u001b[0m\u001b[0;34m)\u001b[0m\u001b[0;34m\u001b[0m\u001b[0;34m\u001b[0m\u001b[0m\n\u001b[0m\u001b[1;32m      2\u001b[0m \u001b[0mdf\u001b[0m\u001b[0;34m[\u001b[0m\u001b[0;34m'embedded_avg'\u001b[0m\u001b[0;34m]\u001b[0m \u001b[0;34m=\u001b[0m \u001b[0mdf\u001b[0m\u001b[0;34m[\u001b[0m\u001b[0;34m'embedded_q'\u001b[0m\u001b[0;34m]\u001b[0m\u001b[0;34m.\u001b[0m\u001b[0mapply\u001b[0m\u001b[0;34m(\u001b[0m\u001b[0;32mlambda\u001b[0m \u001b[0mx\u001b[0m\u001b[0;34m:\u001b[0m \u001b[0mnp\u001b[0m\u001b[0;34m.\u001b[0m\u001b[0mmean\u001b[0m\u001b[0;34m(\u001b[0m\u001b[0mx\u001b[0m\u001b[0;34m,\u001b[0m \u001b[0maxis\u001b[0m\u001b[0;34m=\u001b[0m\u001b[0;36m0\u001b[0m\u001b[0;34m)\u001b[0m\u001b[0;34m)\u001b[0m\u001b[0;34m\u001b[0m\u001b[0;34m\u001b[0m\u001b[0m\n\u001b[1;32m      3\u001b[0m \u001b[0mdf\u001b[0m\u001b[0;34m.\u001b[0m\u001b[0mhead\u001b[0m\u001b[0;34m(\u001b[0m\u001b[0;34m)\u001b[0m\u001b[0;34m\u001b[0m\u001b[0;34m\u001b[0m\u001b[0m\n",
            "\u001b[0;32m<ipython-input-4-46b5ffd2f78a>\u001b[0m in \u001b[0;36m<listcomp>\u001b[0;34m(.0)\u001b[0m\n\u001b[0;32m----> 1\u001b[0;31m \u001b[0mdf\u001b[0m\u001b[0;34m[\u001b[0m\u001b[0;34m'embedded_q'\u001b[0m\u001b[0;34m]\u001b[0m \u001b[0;34m=\u001b[0m \u001b[0mdf\u001b[0m\u001b[0;34m[\u001b[0m\u001b[0;34m'sent_question'\u001b[0m\u001b[0;34m]\u001b[0m\u001b[0;34m.\u001b[0m\u001b[0mapply\u001b[0m\u001b[0;34m(\u001b[0m\u001b[0;32mlambda\u001b[0m \u001b[0mx\u001b[0m\u001b[0;34m:\u001b[0m \u001b[0;34m[\u001b[0m\u001b[0mwv\u001b[0m\u001b[0;34m.\u001b[0m\u001b[0mget_vector\u001b[0m\u001b[0;34m(\u001b[0m\u001b[0mw\u001b[0m\u001b[0;34m)\u001b[0m \u001b[0;32mfor\u001b[0m \u001b[0mw\u001b[0m \u001b[0;32min\u001b[0m \u001b[0mx\u001b[0m\u001b[0;34m]\u001b[0m\u001b[0;34m)\u001b[0m\u001b[0;34m\u001b[0m\u001b[0;34m\u001b[0m\u001b[0m\n\u001b[0m\u001b[1;32m      2\u001b[0m \u001b[0mdf\u001b[0m\u001b[0;34m[\u001b[0m\u001b[0;34m'embedded_avg'\u001b[0m\u001b[0;34m]\u001b[0m \u001b[0;34m=\u001b[0m \u001b[0mdf\u001b[0m\u001b[0;34m[\u001b[0m\u001b[0;34m'embedded_q'\u001b[0m\u001b[0;34m]\u001b[0m\u001b[0;34m.\u001b[0m\u001b[0mapply\u001b[0m\u001b[0;34m(\u001b[0m\u001b[0;32mlambda\u001b[0m \u001b[0mx\u001b[0m\u001b[0;34m:\u001b[0m \u001b[0mnp\u001b[0m\u001b[0;34m.\u001b[0m\u001b[0mmean\u001b[0m\u001b[0;34m(\u001b[0m\u001b[0mx\u001b[0m\u001b[0;34m,\u001b[0m \u001b[0maxis\u001b[0m\u001b[0;34m=\u001b[0m\u001b[0;36m0\u001b[0m\u001b[0;34m)\u001b[0m\u001b[0;34m)\u001b[0m\u001b[0;34m\u001b[0m\u001b[0;34m\u001b[0m\u001b[0m\n\u001b[1;32m      3\u001b[0m \u001b[0mdf\u001b[0m\u001b[0;34m.\u001b[0m\u001b[0mhead\u001b[0m\u001b[0;34m(\u001b[0m\u001b[0;34m)\u001b[0m\u001b[0;34m\u001b[0m\u001b[0;34m\u001b[0m\u001b[0m\n",
            "\u001b[0;31mNameError\u001b[0m: name 'wv' is not defined"
          ]
        }
      ]
    },
    {
      "cell_type": "code",
      "metadata": {
        "id": "47GoU4M_DjKg",
        "colab_type": "code",
        "colab": {}
      },
      "source": [
        "question = \"Hur påverkas jag med astma?\"\n",
        "q_embedded = np.mean([wv.get_vector(w) for w in question.split()], axis=0)\n",
        "\n",
        "dists = distance.cdist(df['embedded_avg'].values.tolist(), [q_embedded], 'cosine')\n",
        "dists = np.array([d[0] for d in dists])\n",
        "clostest_questions = np.argsort(-dists)[:5]\n",
        "df.iloc[clostest_questions.tolist()]"
      ],
      "execution_count": 0,
      "outputs": []
    },
    {
      "cell_type": "markdown",
      "metadata": {
        "id": "juPOE2OuCId0",
        "colab_type": "text"
      },
      "source": [
        "Pretty weak to be honest..."
      ]
    },
    {
      "cell_type": "markdown",
      "metadata": {
        "id": "sDPpD79lDjkX",
        "colab_type": "text"
      },
      "source": [
        "## FSE: Fast Sentence Embeddings using Cython, Optimizations & SIF (Smooth Inverse Frequency)\n",
        "\n",
        "Enter FSE, a library that makes it incredibly easy to handle large amount of text quickly (overkill for this application). It also applies SIF which is an interesting approach, read about it in their paper: https://openreview.net/pdf?id=SyK00v5xx"
      ]
    },
    {
      "cell_type": "code",
      "execution_count": 13,
      "metadata": {},
      "outputs": [
        {
          "output_type": "stream",
          "name": "stderr",
          "text": "2020-05-26 18:50:55 INFO: Loading these models for language: sv (Swedish):\n=========================\n| Processor | Package   |\n-------------------------\n| tokenize  | talbanken |\n=========================\n\n2020-05-26 18:50:55 INFO: Use device: cpu\n2020-05-26 18:50:55 INFO: Loading: tokenize\n2020-05-26 18:50:55 INFO: Done loading processors!\n"
        }
      ],
      "source": [
        "nlp = stanza.Pipeline(lang='sv', processors='tokenize')\n",
        "df['question_tokens'] = df['question'].apply(lambda x: [token.text for sentence in nlp(x.lower()).sentences for token in sentence.tokens])"
      ]
    },
    {
      "cell_type": "code",
      "execution_count": 14,
      "metadata": {},
      "outputs": [
        {
          "output_type": "execute_result",
          "data": {
            "text/plain": "0                             [vad, är, coronavirus, ?]\n1                                [vad, är, covid-19, ?]\n2     [vad, skiljer, covid-19, från, säsongsinfluens...\n3                [vilka, är, symtomen, på, covid-19, ?]\n4     [hur, vet, jag, om, mina, symtom, beror, på, p...\n                            ...                        \n76    [varför, stänger, vi, inte, för-, och, grundsk...\n77    [hur, pratar, man, med, barn, om, det, nya, co...\n78                            [vad, är, en, pandemi, ?]\n79    [det, nya, coronaviruset, sprids, i, första, h...\n80    [måste, jag, följa, ett, allmänt, råd, eller, ...\nName: question_tokens, Length: 81, dtype: object"
          },
          "metadata": {},
          "execution_count": 14
        }
      ],
      "source": [
        "df['question_tokens']"
      ]
    },
    {
      "cell_type": "code",
      "metadata": {
        "id": "yDP1bhu-zr3M",
        "colab_type": "code",
        "colab": {}
      },
      "source": [
        "from fse import IndexedList\n",
        "s = IndexedList(df['question_tokens'].tolist())"
      ],
      "execution_count": 15,
      "outputs": []
    },
    {
      "cell_type": "code",
      "metadata": {
        "id": "hBsw0AS80E9B",
        "colab_type": "code",
        "colab": {}
      },
      "source": [
        "from fse.models.average import FAST_VERSION, MAX_WORDS_IN_BATCH\n",
        "print(MAX_WORDS_IN_BATCH)\n",
        "print(FAST_VERSION)\n",
        "\n",
        "from fse.models import uSIF\n",
        "model = uSIF(wv, workers=4, lang_freq=\"sv\")\n",
        "model.train(s)"
      ],
      "execution_count": 16,
      "outputs": [
        {
          "output_type": "stream",
          "name": "stdout",
          "text": "10000\n1\n"
        },
        {
          "output_type": "execute_result",
          "data": {
            "text/plain": "(81, 772)"
          },
          "metadata": {},
          "execution_count": 16
        }
      ]
    },
    {
      "cell_type": "code",
      "metadata": {
        "id": "BXg2nvWB0gsY",
        "colab_type": "code",
        "colab": {}
      },
      "source": [
        "q = \"kan min hund bli sjuk\"\n",
        "text = [token.text for sentence in nlp(q.lower()).sentences for token in sentence.tokens]\n",
        "model.sv.similar_by_sentence(text, model=model, indexable=s.items)"
      ],
      "execution_count": 24,
      "outputs": [
        {
          "output_type": "execute_result",
          "data": {
            "text/plain": "[(['kan',\n   'covid-19',\n   'smitta',\n   'mellan',\n   'djur',\n   'och',\n   'människa',\n   'och',\n   'kan',\n   'mitt',\n   'husdjur',\n   'smittas',\n   'av',\n   'viruset',\n   '?'],\n  33,\n  0.5361529588699341),\n (['hur',\n   'ska',\n   'vi',\n   'bete',\n   'oss',\n   'när',\n   'någon',\n   'i',\n   'hushållet',\n   'är',\n   'sjuk',\n   'i',\n   'misstänkt',\n   'eller',\n   'konstaterad',\n   'covid-19',\n   '?'],\n  48,\n  0.52496737241745),\n (['kan',\n   'man',\n   'bli',\n   'smittad',\n   'av',\n   'en',\n   'person',\n   'som',\n   'har',\n   'covid-19',\n   'men',\n   'som',\n   'inte',\n   'har',\n   'några',\n   'symtom',\n   '?'],\n  28,\n  0.4506794214248657),\n (['kan',\n   'viruset',\n   'smitta',\n   'till',\n   'människa',\n   'via',\n   'post',\n   'och',\n   'paket',\n   '?'],\n  31,\n  0.4159470498561859),\n (['bör', 'jag', 'som', 'symtomfri', 'jobba', 'hemma', '?'],\n  51,\n  0.39490681886672974),\n (['jag',\n   'har',\n   'förlorat',\n   'en',\n   'närstående',\n   'och',\n   'känner',\n   'djup',\n   'sorg.',\n   'vad',\n   'kan',\n   'jag',\n   'göra',\n   '?'],\n  15,\n  0.32057198882102966),\n (['ger',\n   'rökning',\n   'ett',\n   'svårare',\n   'sjukdomsförlopp',\n   'vid',\n   'covid-19',\n   '?'],\n  13,\n  0.31941598653793335),\n (['hur',\n   'länge',\n   'kan',\n   'viruset',\n   'som',\n   'orsakar',\n   'covid-19',\n   'överleva',\n   'utanför',\n   'människokroppen',\n   '?'],\n  29,\n  0.313337504863739),\n (['hur',\n   'vet',\n   'jag',\n   'om',\n   'mina',\n   'symtom',\n   'beror',\n   'på',\n   'pollenallergi',\n   'eller',\n   'på',\n   'covid-19',\n   '?'],\n  4,\n  0.3073407709598541),\n (['vad',\n   'innebär',\n   'det',\n   'att',\n   'covid-19',\n   'klassas',\n   'som',\n   'allmänfarlig',\n   'och',\n   'samhällsfarlig',\n   'sjukdom',\n   'enligt',\n   'smittskyddslagen',\n   '?'],\n  56,\n  0.30421942472457886)]"
          },
          "metadata": {},
          "execution_count": 24
        }
      ]
    },
    {
      "cell_type": "markdown",
      "metadata": {},
      "source": [
        "# TODOs\n",
        "\n",
        "- [ ] Prettify\n",
        "- [ ] Show improvement through\n",
        "- [ ] Average -> FSE\n",
        "- [ ] Split -> Stanza tokenization\n",
        "- [ ] Cased -> Lowercase\n",
        "- [ ] Lemmatizing ???\n",
        "- [ ] Stop words ???\n",
        "- [ ] Supervised required to get further!\n"
      ]
    }
  ],
  "metadata": {
    "colab": {
      "name": "CoViD-19-QA.ipynb",
      "provenance": [],
      "private_outputs": true,
      "collapsed_sections": [],
      "toc_visible": true,
      "machine_shape": "hm"
    },
    "kernelspec": {
      "name": "python3",
      "display_name": "Python 3",
      "language": "python"
    }
  },
  "nbformat": 4,
  "nbformat_minor": 0
}