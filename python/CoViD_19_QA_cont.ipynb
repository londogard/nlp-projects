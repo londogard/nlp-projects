{
 "cells": [
  {
   "cell_type": "markdown",
   "metadata": {},
   "source": [
    "# CoViD-19 FAQ Search Engine 2.0\n",
    "As promised I deliver here a new improved edition off the FAQ engine. Just as previously I keep the same conditions:\n",
    "\n",
    "- The end-product must be unsupervised\n",
    "  - No manually annotated data\n",
    "  - No heuristic applied (at least in first iteration)\n",
    "- It should be light enough to run on a Raspberry Pi later on (hopefully on the JVM to keep it simple with my back-end)\n",
    "- Must be Swedish all the way through - no translations (English models you can transfer knowledge from tends to be stronger, but I want to keep this fun!)\n",
    "\n",
    "With that in mind, let's continue on the implementation from previously!\n",
    "\n",
    "## Improvements to be done\n",
    "\n",
    "In the previous [blog](https://londogard.com/blog/4) / [notebook](https://colab.research.google.com/github/londogard/nlp-projects/blob/master/python/CoViD_19_QA.ipynb) I showed improvements by going from 'Word Embedding Averaging' to 'SIF' (Smooth Inverse Frequency).  \n",
    "To improve further there is a few low hanging fruits to be grabbed, the first one being lower-casing the text. Further it is worth trying lemmatizing, using a better tokenization and stop-words. In total I figured the following worthy of checking out:\n",
    "\n",
    "- Lowercase\n",
    "- Better tokenization\n",
    "- Lemmatizing\n",
    "- Custom features (e.g. found a swear-word etc?)\n",
    "- Stop words\n",
    "- Ngram & custom embedding\n",
    "\n",
    "\n",
    "Finally to make it even better I'd say we need annotated data where we can make use of supervised learning.\n",
    "\n",
    "\n",
    "- [ ] Prettify\n",
    "- [ ] Show improvement through\n",
    "- [ ] Average -> FSE\n",
    "- [ ] Split -> Stanza tokenization\n",
    "- [ ] Cased -> Lowercase\n",
    "- [ ] Lemmatizing ???\n",
    "- [ ] Stop words ???\n",
    "- [ ] Supervised required to get further!"
   ]
  }
 ],
 "metadata": {
  "language_info": {
   "codemirror_mode": {
    "name": "ipython",
    "version": 3
   },
   "file_extension": ".py",
   "mimetype": "text/x-python",
   "name": "python",
   "nbconvert_exporter": "python",
   "pygments_lexer": "ipython3",
   "version": 3
  },
  "orig_nbformat": 2
 },
 "nbformat": 4,
 "nbformat_minor": 2
}